{
 "cells": [
  {
   "cell_type": "code",
   "execution_count": 1,
   "metadata": {},
   "outputs": [],
   "source": [
    "from urllib.request import urlopen\n",
    "import requests\n",
    "from bs4 import BeautifulSoup\n",
    "import re\n",
    "import pandas as pd"
   ]
  },
  {
   "cell_type": "code",
   "execution_count": 5,
   "metadata": {},
   "outputs": [],
   "source": [
    "# Function to get each story's URL\n",
    "\n",
    "def get_links(url):\n",
    "    html = urlopen(url)\n",
    "    bs = BeautifulSoup(html, \"html.parser\")\n",
    "    links = []\n",
    "    for link in bs.find(\"ul\", {\"class\" : \"list-stories\"}).find_all(\"a\", href = re.compile('(/texto/)')):\n",
    "        if \"href\" in link.attrs:\n",
    "            links.append(link.attrs[\"href\"])\n",
    "    return links"
   ]
  },
  {
   "cell_type": "code",
   "execution_count": 9,
   "metadata": {},
   "outputs": [],
   "source": [
    "# Saving the result of the function in variable \"links\"\n",
    "\n",
    "links = get_links(\"http://ciudadseva.com/autor/julio-cortazar/cuentos/\")\n"
   ]
  },
  {
   "cell_type": "code",
   "execution_count": 91,
   "metadata": {},
   "outputs": [],
   "source": [
    "# Function to extract the title and text of each story. Creates a dictionary.\n",
    "\n",
    "def get_story(story_url):\n",
    "    html = urlopen(story_url)\n",
    "    bs = BeautifulSoup(html, \"html.parser\")\n",
    "    title = bs.find(\"h1\").get_text()\n",
    "    text = []\n",
    "    \n",
    "    container = bs.find(\"article\").find(\"div\", {\"class\" : \"text-justify\"})\n",
    "    \n",
    "    for i in container.find_all(\"p\", {\"style\": False}):\n",
    "        text.append(i.get_text(strip = True, separator = \" \"))\n",
    "    \n",
    "    text = \" \".join([str(elem) for elem in text])\n",
    "\n",
    "    story = {\"title\": title, \n",
    "            \"text\": text}\n",
    "    \n",
    "    return story\n",
    "    "
   ]
  },
  {
   "cell_type": "code",
   "execution_count": 95,
   "metadata": {
    "tags": [
     "outputPrepend"
    ]
   },
   "outputs": [
    {
     "output_type": "stream",
     "name": "stdout",
     "text": "https://ciudadseva.com/texto/almuerzos/\nhttps://ciudadseva.com/texto/amor-77/\nhttps://ciudadseva.com/texto/axolotl/\nhttps://ciudadseva.com/texto/carta-a-una-senorita-en-paris/\nhttps://ciudadseva.com/texto/cartas-de-mama/\nhttps://ciudadseva.com/texto/casa-tomada/\nhttps://ciudadseva.com/texto/circe/\nhttps://ciudadseva.com/texto/condor-y-cronopio/\nhttps://ciudadseva.com/texto/conducta-en-los-velorios/\nhttps://ciudadseva.com/texto/conservacion-de-los-recuerdos/\nhttps://ciudadseva.com/texto/continuidad-de-los-parques/\nhttps://ciudadseva.com/texto/despues-del-almuerzo/\nhttps://ciudadseva.com/texto/el-diario-a-diario/\nhttps://ciudadseva.com/texto/en-un-vaso-de-agua-fria-o-preferentemente-tibia/\nhttps://ciudadseva.com/texto/epigrafe-de-rayuela/\nhttps://ciudadseva.com/texto/historia-veridica/\nhttps://ciudadseva.com/texto/instrucciones-para-cantar/\nhttps://ciudadseva.com/texto/instrucciones-para-llorar/\nhttps://ciudadseva.com/texto/instrucciones-para-subir-una-escalera/\nhttps://ciudadseva.com/texto/la-autopista-del-sur/\nhttps://ciudadseva.com/texto/la-isla-a-mediodia/\nhttps://ciudadseva.com/texto/la-noche-boca-arriba/\nhttps://ciudadseva.com/texto/la-senorita-cora/\nhttps://ciudadseva.com/texto/las-lineas-de-la-mano/\nhttps://ciudadseva.com/texto/las-menades/\nhttps://ciudadseva.com/texto/lejana/\nhttps://ciudadseva.com/texto/los-testigos/\nhttps://ciudadseva.com/texto/pagina-asesina/\nhttps://ciudadseva.com/texto/patio-de-tarde/\nhttps://ciudadseva.com/texto/por-escrito-gallina-una/\nhttps://ciudadseva.com/texto/rayuela-capitulo-68/\nhttps://ciudadseva.com/texto/secuencias/\nhttps://ciudadseva.com/texto/tema-para-un-tapiz/\nhttps://ciudadseva.com/texto/teoria-del-cangrejo/\nhttps://ciudadseva.com/texto/todos-los-fuegos-el-fuego/\nhttps://ciudadseva.com/texto/una-flor-amarilla/\nhttps://ciudadseva.com/texto/vialidad/\n"
    }
   ],
   "source": [
    "# Creating a list with dictionaries, where each dictionary is a story. \n",
    "\n",
    "stories = []\n",
    "\n",
    "for link in links:\n",
    "    print(link)\n",
    "    stories.append(get_story(link))\n",
    "\n"
   ]
  },
  {
   "cell_type": "code",
   "execution_count": 102,
   "metadata": {},
   "outputs": [
    {
     "output_type": "execute_result",
     "data": {
      "text/plain": "{'title': 'Cóndor y cronopio',\n 'text': 'Un cóndor cae como un rayo sobre un cronopio que pasa por Tinogasta, lo acorrala contra una pared de granito, y dice con gran petulancia, a saber: Cóndor. —Atrévete a afirmar que no soy hermoso. Cronopio. —Usted es el pájaro más hermoso que he visto nunca. Cóndor. —Más todavía. Cronopio. —Usted es más hermoso que el ave del paraíso. Cóndor. —Atrévete a decir que no vuelo alto. Cronopio. —Usted vuela a alturas vertiginosas, y es por completo supersónico y estratosférico. Cóndor. —Atrévete a decir que huelo mal. Cronopio. —Usted huele mejor que un litro entero de colonia Jean-Marie Farina. Cóndor. —Mierda de tipo. No deja ni un claro donde sacudirle un picotazo.'}"
     },
     "metadata": {},
     "execution_count": 102
    }
   ],
   "source": [
    "stories[7]\n"
   ]
  },
  {
   "cell_type": "code",
   "execution_count": 101,
   "metadata": {},
   "outputs": [
    {
     "output_type": "execute_result",
     "data": {
      "text/plain": "                                              title  \\\n0                                         Almuerzos   \n1                                           Amor 77   \n2                                           Axolotl   \n3                     Carta a una señorita en París   \n4                                    Cartas de mamá   \n5                                       Casa tomada   \n6                                             Circe   \n7                                 Cóndor y cronopio   \n8                          Conducta en los velorios   \n9                     Conservación de los recuerdos   \n10                       Continuidad de los parques   \n11                             Después del almuerzo   \n12                               El diario a diario   \n13  En un vaso de agua fría o preferentemente tibia   \n14                            Epígrafe de “Rayuela”   \n15                                Historia verídica   \n16                        Instrucciones para cantar   \n17                        Instrucciones para llorar   \n18            Instrucciones para subir una escalera   \n19                             La autopista del sur   \n20                               La isla a mediodía   \n21                             La noche boca arriba   \n22                                 La señorita Cora   \n23                            Las líneas de la mano   \n24                                      Las ménades   \n25                                           Lejana   \n26                                     Los testigos   \n27                                   Página asesina   \n28                                   Patio de tarde   \n29                          Por escrito gallina una   \n30                             Rayuela: Capítulo 68   \n31                                       Secuencias   \n32                               Tema para un tapiz   \n33                              Teoría del cangrejo   \n34                        Todos los fuegos el fuego   \n35                                Una flor amarilla   \n36                                         Vialidad   \n\n                                                 text  \n0   En el restaurante de los cronopios pasan estas...  \n1   Y después de hacer todo lo que hacen, se levan...  \n2   Hubo un tiempo en que yo pensaba mucho en los ...  \n3   Andrée, yo no quería venirme a vivir a su depa...  \n4   Muy bien hubiera podido llamarse libertad cond...  \n5   Nos gustaba la casa porque aparte de espaciosa...  \n6   Porque ya no ha de importarle, pero esa vez le...  \n7   Un cóndor cae como un rayo sobre un cronopio q...  \n8   No vamos por el anís, ni porque hay que ir. Ya...  \n9   Los famas para conservar sus recuerdos procede...  \n10  Había empezado a leer la novela unos días ante...  \n11  Después del almuerzo yo hubiera querido quedar...  \n12  Un señor toma un tranvía después de comprar el...  \n13  Es triste, pero jamás comprenderé las aspirina...  \n14  Siempre que viene el tiempo fresco, o sea al m...  \n15  A un señor se le caen al suelo los anteojos, q...  \n16  Empiece por romper los espejos de su casa, dej...  \n17  Dejando de lado los motivos, atengámonos a la ...  \n18  Nadie habrá dejado de observar que con frecuen...  \n19  Al principio la muchacha del Dauphine había in...  \n20  La primera vez que vio la isla, Marini estaba ...  \n21  A mitad del largo zaguán del hotel pensó que d...  \n22  No entiendo por qué no me dejan pasar la noche...  \n23  De una carta tirada sobre la mesa sale una lín...  \n24  Alcanzándome un programa impreso en papel crem...  \n25  Diario de Alina Reyes 12 de enero Anoche fue o...  \n26  Cuando le conté a Polanco que en mi casa había...  \n27  En un pueblo de Escocia venden libros con una ...  \n28  A Toby le gusta ver pasar a la muchacha rubia ...  \n29  Con lo que pasa es nosotros exaltante. Rápidam...  \n30  Apenas él le amalaba el noema, a ella se le ag...  \n31  Dejó de leer el relato en el punto donde un pe...  \n32  El general tiene solo ochenta hombres, y el en...  \n33  Habían levantado la casa en el límite de la se...  \n34  Así será algún día su estatua, piensa irónicam...  \n35  Parece una broma, pero somos inmortales. Lo sé...  \n36  Un pobre cronopio va en su automóvil y al lleg...  ",
      "text/html": "<div>\n<style scoped>\n    .dataframe tbody tr th:only-of-type {\n        vertical-align: middle;\n    }\n\n    .dataframe tbody tr th {\n        vertical-align: top;\n    }\n\n    .dataframe thead th {\n        text-align: right;\n    }\n</style>\n<table border=\"1\" class=\"dataframe\">\n  <thead>\n    <tr style=\"text-align: right;\">\n      <th></th>\n      <th>title</th>\n      <th>text</th>\n    </tr>\n  </thead>\n  <tbody>\n    <tr>\n      <th>0</th>\n      <td>Almuerzos</td>\n      <td>En el restaurante de los cronopios pasan estas...</td>\n    </tr>\n    <tr>\n      <th>1</th>\n      <td>Amor 77</td>\n      <td>Y después de hacer todo lo que hacen, se levan...</td>\n    </tr>\n    <tr>\n      <th>2</th>\n      <td>Axolotl</td>\n      <td>Hubo un tiempo en que yo pensaba mucho en los ...</td>\n    </tr>\n    <tr>\n      <th>3</th>\n      <td>Carta a una señorita en París</td>\n      <td>Andrée, yo no quería venirme a vivir a su depa...</td>\n    </tr>\n    <tr>\n      <th>4</th>\n      <td>Cartas de mamá</td>\n      <td>Muy bien hubiera podido llamarse libertad cond...</td>\n    </tr>\n    <tr>\n      <th>5</th>\n      <td>Casa tomada</td>\n      <td>Nos gustaba la casa porque aparte de espaciosa...</td>\n    </tr>\n    <tr>\n      <th>6</th>\n      <td>Circe</td>\n      <td>Porque ya no ha de importarle, pero esa vez le...</td>\n    </tr>\n    <tr>\n      <th>7</th>\n      <td>Cóndor y cronopio</td>\n      <td>Un cóndor cae como un rayo sobre un cronopio q...</td>\n    </tr>\n    <tr>\n      <th>8</th>\n      <td>Conducta en los velorios</td>\n      <td>No vamos por el anís, ni porque hay que ir. Ya...</td>\n    </tr>\n    <tr>\n      <th>9</th>\n      <td>Conservación de los recuerdos</td>\n      <td>Los famas para conservar sus recuerdos procede...</td>\n    </tr>\n    <tr>\n      <th>10</th>\n      <td>Continuidad de los parques</td>\n      <td>Había empezado a leer la novela unos días ante...</td>\n    </tr>\n    <tr>\n      <th>11</th>\n      <td>Después del almuerzo</td>\n      <td>Después del almuerzo yo hubiera querido quedar...</td>\n    </tr>\n    <tr>\n      <th>12</th>\n      <td>El diario a diario</td>\n      <td>Un señor toma un tranvía después de comprar el...</td>\n    </tr>\n    <tr>\n      <th>13</th>\n      <td>En un vaso de agua fría o preferentemente tibia</td>\n      <td>Es triste, pero jamás comprenderé las aspirina...</td>\n    </tr>\n    <tr>\n      <th>14</th>\n      <td>Epígrafe de “Rayuela”</td>\n      <td>Siempre que viene el tiempo fresco, o sea al m...</td>\n    </tr>\n    <tr>\n      <th>15</th>\n      <td>Historia verídica</td>\n      <td>A un señor se le caen al suelo los anteojos, q...</td>\n    </tr>\n    <tr>\n      <th>16</th>\n      <td>Instrucciones para cantar</td>\n      <td>Empiece por romper los espejos de su casa, dej...</td>\n    </tr>\n    <tr>\n      <th>17</th>\n      <td>Instrucciones para llorar</td>\n      <td>Dejando de lado los motivos, atengámonos a la ...</td>\n    </tr>\n    <tr>\n      <th>18</th>\n      <td>Instrucciones para subir una escalera</td>\n      <td>Nadie habrá dejado de observar que con frecuen...</td>\n    </tr>\n    <tr>\n      <th>19</th>\n      <td>La autopista del sur</td>\n      <td>Al principio la muchacha del Dauphine había in...</td>\n    </tr>\n    <tr>\n      <th>20</th>\n      <td>La isla a mediodía</td>\n      <td>La primera vez que vio la isla, Marini estaba ...</td>\n    </tr>\n    <tr>\n      <th>21</th>\n      <td>La noche boca arriba</td>\n      <td>A mitad del largo zaguán del hotel pensó que d...</td>\n    </tr>\n    <tr>\n      <th>22</th>\n      <td>La señorita Cora</td>\n      <td>No entiendo por qué no me dejan pasar la noche...</td>\n    </tr>\n    <tr>\n      <th>23</th>\n      <td>Las líneas de la mano</td>\n      <td>De una carta tirada sobre la mesa sale una lín...</td>\n    </tr>\n    <tr>\n      <th>24</th>\n      <td>Las ménades</td>\n      <td>Alcanzándome un programa impreso en papel crem...</td>\n    </tr>\n    <tr>\n      <th>25</th>\n      <td>Lejana</td>\n      <td>Diario de Alina Reyes 12 de enero Anoche fue o...</td>\n    </tr>\n    <tr>\n      <th>26</th>\n      <td>Los testigos</td>\n      <td>Cuando le conté a Polanco que en mi casa había...</td>\n    </tr>\n    <tr>\n      <th>27</th>\n      <td>Página asesina</td>\n      <td>En un pueblo de Escocia venden libros con una ...</td>\n    </tr>\n    <tr>\n      <th>28</th>\n      <td>Patio de tarde</td>\n      <td>A Toby le gusta ver pasar a la muchacha rubia ...</td>\n    </tr>\n    <tr>\n      <th>29</th>\n      <td>Por escrito gallina una</td>\n      <td>Con lo que pasa es nosotros exaltante. Rápidam...</td>\n    </tr>\n    <tr>\n      <th>30</th>\n      <td>Rayuela: Capítulo 68</td>\n      <td>Apenas él le amalaba el noema, a ella se le ag...</td>\n    </tr>\n    <tr>\n      <th>31</th>\n      <td>Secuencias</td>\n      <td>Dejó de leer el relato en el punto donde un pe...</td>\n    </tr>\n    <tr>\n      <th>32</th>\n      <td>Tema para un tapiz</td>\n      <td>El general tiene solo ochenta hombres, y el en...</td>\n    </tr>\n    <tr>\n      <th>33</th>\n      <td>Teoría del cangrejo</td>\n      <td>Habían levantado la casa en el límite de la se...</td>\n    </tr>\n    <tr>\n      <th>34</th>\n      <td>Todos los fuegos el fuego</td>\n      <td>Así será algún día su estatua, piensa irónicam...</td>\n    </tr>\n    <tr>\n      <th>35</th>\n      <td>Una flor amarilla</td>\n      <td>Parece una broma, pero somos inmortales. Lo sé...</td>\n    </tr>\n    <tr>\n      <th>36</th>\n      <td>Vialidad</td>\n      <td>Un pobre cronopio va en su automóvil y al lleg...</td>\n    </tr>\n  </tbody>\n</table>\n</div>"
     },
     "metadata": {},
     "execution_count": 101
    }
   ],
   "source": [
    "# Creating data fram\n",
    "\n",
    "df_cortazar = pd.DataFrame(stories)\n",
    "df_cortazar"
   ]
  },
  {
   "cell_type": "code",
   "execution_count": null,
   "metadata": {},
   "outputs": [],
   "source": []
  }
 ],
 "metadata": {
  "language_info": {
   "codemirror_mode": {
    "name": "ipython",
    "version": 3
   },
   "file_extension": ".py",
   "mimetype": "text/x-python",
   "name": "python",
   "nbconvert_exporter": "python",
   "pygments_lexer": "ipython3",
   "version": "3.8.2-final"
  },
  "orig_nbformat": 2,
  "kernelspec": {
   "name": "python38232biteb47039ee8b34c52b187673b1558ccdd",
   "display_name": "Python 3.8.2 32-bit"
  }
 },
 "nbformat": 4,
 "nbformat_minor": 2
}