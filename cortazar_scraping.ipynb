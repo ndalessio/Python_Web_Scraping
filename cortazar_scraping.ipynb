{
 "cells": [
  {
   "cell_type": "code",
   "execution_count": 2,
   "metadata": {},
   "outputs": [],
   "source": [
    "from urllib.request import urlopen\n",
    "import requests\n",
    "from bs4 import BeautifulSoup\n",
    "import re\n",
    "import pandas as pd"
   ]
  },
  {
   "cell_type": "code",
   "execution_count": 3,
   "metadata": {},
   "outputs": [],
   "source": [
    "# Function to get each story's URL\n",
    "\n",
    "def get_links(url):\n",
    "    html = urlopen(url)\n",
    "    bs = BeautifulSoup(html, \"html.parser\")\n",
    "    links = []\n",
    "    for link in bs.find(\"ul\", {\"class\" : \"list-stories\"}).find_all(\"a\", href = re.compile('(/texto/)')):\n",
    "        if \"href\" in link.attrs:\n",
    "            links.append(link.attrs[\"href\"])\n",
    "    return links"
   ]
  },
  {
   "cell_type": "code",
   "execution_count": 4,
   "metadata": {},
   "outputs": [],
   "source": [
    "# Saving the result of the function in variable \"links\"\n",
    "\n",
    "links = get_links(\"http://ciudadseva.com/autor/julio-cortazar/cuentos/\")\n"
   ]
  },
  {
   "cell_type": "code",
   "execution_count": 5,
   "metadata": {},
   "outputs": [],
   "source": [
    "# Function to extract the title and text of each story. Creates a dictionary.\n",
    "\n",
    "def get_story(story_url):\n",
    "    html = urlopen(story_url)\n",
    "    bs = BeautifulSoup(html, \"html.parser\")\n",
    "    title = bs.find(\"h1\").get_text()\n",
    "    text = []\n",
    "    \n",
    "    container = bs.find(\"article\").find(\"div\", {\"class\" : \"text-justify\"})\n",
    "    \n",
    "    for i in container.find_all(\"p\", {\"style\": False}):\n",
    "        text.append(i.get_text(strip = True, separator = \" \"))\n",
    "    \n",
    "    text = \" \".join([str(elem) for elem in text])\n",
    "\n",
    "    story = {\"title\": title, \n",
    "            \"text\": text}\n",
    "    \n",
    "    return story\n",
    "    "
   ]
  },
  {
   "cell_type": "code",
   "execution_count": 6,
   "metadata": {
    "tags": [
     "outputPrepend"
    ]
   },
   "outputs": [
    {
     "output_type": "stream",
     "name": "stdout",
     "text": "https://ciudadseva.com/texto/almuerzos/\nhttps://ciudadseva.com/texto/amor-77/\nhttps://ciudadseva.com/texto/axolotl/\nhttps://ciudadseva.com/texto/carta-a-una-senorita-en-paris/\nhttps://ciudadseva.com/texto/cartas-de-mama/\nhttps://ciudadseva.com/texto/casa-tomada/\nhttps://ciudadseva.com/texto/circe/\nhttps://ciudadseva.com/texto/condor-y-cronopio/\nhttps://ciudadseva.com/texto/conducta-en-los-velorios/\nhttps://ciudadseva.com/texto/conservacion-de-los-recuerdos/\nhttps://ciudadseva.com/texto/continuidad-de-los-parques/\nhttps://ciudadseva.com/texto/despues-del-almuerzo/\nhttps://ciudadseva.com/texto/el-diario-a-diario/\nhttps://ciudadseva.com/texto/en-un-vaso-de-agua-fria-o-preferentemente-tibia/\nhttps://ciudadseva.com/texto/epigrafe-de-rayuela/\nhttps://ciudadseva.com/texto/historia-veridica/\nhttps://ciudadseva.com/texto/instrucciones-para-cantar/\nhttps://ciudadseva.com/texto/instrucciones-para-llorar/\nhttps://ciudadseva.com/texto/instrucciones-para-subir-una-escalera/\nhttps://ciudadseva.com/texto/la-autopista-del-sur/\nhttps://ciudadseva.com/texto/la-isla-a-mediodia/\nhttps://ciudadseva.com/texto/la-noche-boca-arriba/\nhttps://ciudadseva.com/texto/la-senorita-cora/\nhttps://ciudadseva.com/texto/las-lineas-de-la-mano/\nhttps://ciudadseva.com/texto/las-menades/\nhttps://ciudadseva.com/texto/lejana/\nhttps://ciudadseva.com/texto/los-testigos/\nhttps://ciudadseva.com/texto/pagina-asesina/\nhttps://ciudadseva.com/texto/patio-de-tarde/\nhttps://ciudadseva.com/texto/por-escrito-gallina-una/\nhttps://ciudadseva.com/texto/rayuela-capitulo-68/\nhttps://ciudadseva.com/texto/secuencias/\nhttps://ciudadseva.com/texto/tema-para-un-tapiz/\nhttps://ciudadseva.com/texto/teoria-del-cangrejo/\nhttps://ciudadseva.com/texto/todos-los-fuegos-el-fuego/\nhttps://ciudadseva.com/texto/una-flor-amarilla/\nhttps://ciudadseva.com/texto/vialidad/\n"
    }
   ],
   "source": [
    "# Creating a list with dictionaries, where each dictionary is a story. \n",
    "\n",
    "stories = []\n",
    "\n",
    "for link in links:\n",
    "    print(link)\n",
    "    stories.append(get_story(link))\n",
    "\n"
   ]
  },
  {
   "cell_type": "code",
   "execution_count": 7,
   "metadata": {},
   "outputs": [],
   "source": [
    "#stories[2]\n"
   ]
  },
  {
   "cell_type": "code",
   "execution_count": 16,
   "metadata": {},
   "outputs": [],
   "source": [
    "# Creating data fram\n",
    "\n",
    "df_cortazar = pd.DataFrame(stories)\n",
    "#df_cortazar\n",
    "\n",
    "#df_cortazar.to_csv(r'C:\\Users\\nolis\\Documents\\Python\\Python_Web_Scraping\\df_cortazar2.csv', index = False, encoding = \"utf-8-sig\")\n"
   ]
  },
  {
   "cell_type": "code",
   "execution_count": null,
   "metadata": {},
   "outputs": [],
   "source": []
  }
 ],
 "metadata": {
  "language_info": {
   "codemirror_mode": {
    "name": "ipython",
    "version": 3
   },
   "file_extension": ".py",
   "mimetype": "text/x-python",
   "name": "python",
   "nbconvert_exporter": "python",
   "pygments_lexer": "ipython3",
   "version": "3.8.2-final"
  },
  "orig_nbformat": 2,
  "kernelspec": {
   "name": "python38232biteb47039ee8b34c52b187673b1558ccdd",
   "display_name": "Python 3.8.2 32-bit"
  }
 },
 "nbformat": 4,
 "nbformat_minor": 2
}