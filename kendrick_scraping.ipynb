{
 "cells": [
  {
   "cell_type": "code",
   "execution_count": 14,
   "metadata": {},
   "outputs": [],
   "source": [
    "from urllib.request import urlopen\n",
    "import requests\n",
    "from bs4 import BeautifulSoup as soup\n",
    "import re\n",
    "import pandas as pd\n"
   ]
  },
  {
   "cell_type": "code",
   "execution_count": 12,
   "metadata": {},
   "outputs": [],
   "source": [
    "#To check how soup Beautiful Soup works (soup)\n",
    "links_me = requests.get(\"https://www.musica.com/letras.asp?letras=46162\")\n",
    "links_me = links_me.content\n",
    "soup_me = soup(links_me)"
   ]
  },
  {
   "cell_type": "code",
   "execution_count": 13,
   "metadata": {},
   "outputs": [],
   "source": [
    "# Function to get the links of a song's URL in musica.com website\n",
    "def get_links(url):\n",
    "    html = urlopen(url)\n",
    "    bsOb = soup(html)\n",
    "    links = []\n",
    "    for link in bsOb.find_all(\"a\", href = True):\n",
    "        if(\"letra=\" in link.attrs[\"href\"]) & ~(link.has_attr(\"title\")):\n",
    "            links.append(\"https://www.musica.com/\" + link.attrs[\"href\"])\n",
    "        else:\n",
    "            pass\n",
    "    return(links)"
   ]
  },
  {
   "cell_type": "code",
   "execution_count": 23,
   "metadata": {
    "tags": [
     "outputPrepend"
    ]
   },
   "outputs": [
    {
     "output_type": "stream",
     "name": "stdout",
     "text": "//www.musica.com/letras.asp?letra=2294517', 'https://www.musica.com/letras.asp?letra=2294635', 'https://www.musica.com/letras.asp?letra=2126770', 'https://www.musica.com/letras.asp?letra=2111336', 'https://www.musica.com/letras.asp?letra=2324600', 'https://www.musica.com/letras.asp?letra=2126773', 'https://www.musica.com/letras.asp?letra=2222747', 'https://www.musica.com/letras.asp?letra=2363207', 'https://www.musica.com/letras.asp?letra=2363206', 'https://www.musica.com/letras.asp?letra=2147777', 'https://www.musica.com/letras.asp?letra=2494007', 'https://www.musica.com/letras.asp?letra=2263287', 'https://www.musica.com/letras.asp?letra=2126776', 'https://www.musica.com/letras.asp?letra=2294528', 'https://www.musica.com/letras.asp?letra=2294521', 'https://www.musica.com/letras.asp?letra=2294527', 'https://www.musica.com/letras.asp?letra=2294520']\n['https://www.musica.com/letras.asp?letra=2295204', 'https://www.musica.com/letras.asp?letra=2294146', 'https://www.musica.com/letras.asp?letra=2091236', 'https://www.musica.com/letras.asp?letra=2294203', 'https://www.musica.com/letras.asp?letra=2294197', 'https://www.musica.com/letras.asp?letra=2126784', 'https://www.musica.com/letras.asp?letra=2126780', 'https://www.musica.com/letras.asp?letra=2126783', 'https://www.musica.com/letras.asp?letra=2294517', 'https://www.musica.com/letras.asp?letra=2294635', 'https://www.musica.com/letras.asp?letra=2126770', 'https://www.musica.com/letras.asp?letra=2111336', 'https://www.musica.com/letras.asp?letra=2324600', 'https://www.musica.com/letras.asp?letra=2126773', 'https://www.musica.com/letras.asp?letra=2222747', 'https://www.musica.com/letras.asp?letra=2363207', 'https://www.musica.com/letras.asp?letra=2363206', 'https://www.musica.com/letras.asp?letra=2147777', 'https://www.musica.com/letras.asp?letra=2494007', 'https://www.musica.com/letras.asp?letra=2263287', 'https://www.musica.com/letras.asp?letra=2126776', 'https://www.musica.com/letras.asp?letra=2294528', 'https://www.musica.com/letras.asp?letra=2294521', 'https://www.musica.com/letras.asp?letra=2294527', 'https://www.musica.com/letras.asp?letra=2294520']\n['https://www.musica.com/letras.asp?letra=2295204', 'https://www.musica.com/letras.asp?letra=2294146', 'https://www.musica.com/letras.asp?letra=2091236', 'https://www.musica.com/letras.asp?letra=2294203', 'https://www.musica.com/letras.asp?letra=2294197', 'https://www.musica.com/letras.asp?letra=2126784', 'https://www.musica.com/letras.asp?letra=2126780', 'https://www.musica.com/letras.asp?letra=2126783', 'https://www.musica.com/letras.asp?letra=2294517', 'https://www.musica.com/letras.asp?letra=2294635', 'https://www.musica.com/letras.asp?letra=2126770', 'https://www.musica.com/letras.asp?letra=2111336', 'https://www.musica.com/letras.asp?letra=2324600', 'https://www.musica.com/letras.asp?letra=2126773', 'https://www.musica.com/letras.asp?letra=2222747', 'https://www.musica.com/letras.asp?letra=2363207', 'https://www.musica.com/letras.asp?letra=2363206', 'https://www.musica.com/letras.asp?letra=2147777', 'https://www.musica.com/letras.asp?letra=2494007', 'https://www.musica.com/letras.asp?letra=2263287', 'https://www.musica.com/letras.asp?letra=2126776', 'https://www.musica.com/letras.asp?letra=2294528', 'https://www.musica.com/letras.asp?letra=2294521', 'https://www.musica.com/letras.asp?letra=2294527', 'https://www.musica.com/letras.asp?letra=2294520']\n['https://www.musica.com/letras.asp?letra=2295204', 'https://www.musica.com/letras.asp?letra=2294146', 'https://www.musica.com/letras.asp?letra=2091236', 'https://www.musica.com/letras.asp?letra=2294203', 'https://www.musica.com/letras.asp?letra=2294197', 'https://www.musica.com/letras.asp?letra=2126784', 'https://www.musica.com/letras.asp?letra=2126780', 'https://www.musica.com/letras.asp?letra=2126783', 'https://www.musica.com/letras.asp?letra=2294517', 'https://www.musica.com/letras.asp?letra=2294635', 'https://www.musica.com/letras.asp?letra=2126770', 'https://www.musica.com/letras.asp?letra=2111336', 'https://www.musica.com/letras.asp?letra=2324600', 'https://www.musica.com/letras.asp?letra=2126773', 'https://www.musica.com/letras.asp?letra=2222747', 'https://www.musica.com/letras.asp?letra=2363207', 'https://www.musica.com/letras.asp?letra=2363206', 'https://www.musica.com/letras.asp?letra=2147777', 'https://www.musica.com/letras.asp?letra=2494007', 'https://www.musica.com/letras.asp?letra=2263287', 'https://www.musica.com/letras.asp?letra=2126776', 'https://www.musica.com/letras.asp?letra=2294528', 'https://www.musica.com/letras.asp?letra=2294521', 'https://www.musica.com/letras.asp?letra=2294527', 'https://www.musica.com/letras.asp?letra=2294520']\n['https://www.musica.com/letras.asp?letra=2295204', 'https://www.musica.com/letras.asp?letra=2294146', 'https://www.musica.com/letras.asp?letra=2091236', 'https://www.musica.com/letras.asp?letra=2294203', 'https://www.musica.com/letras.asp?letra=2294197', 'https://www.musica.com/letras.asp?letra=2126784', 'https://www.musica.com/letras.asp?letra=2126780', 'https://www.musica.com/letras.asp?letra=2126783', 'https://www.musica.com/letras.asp?letra=2294517', 'https://www.musica.com/letras.asp?letra=2294635', 'https://www.musica.com/letras.asp?letra=2126770', 'https://www.musica.com/letras.asp?letra=2111336', 'https://www.musica.com/letras.asp?letra=2324600', 'https://www.musica.com/letras.asp?letra=2126773', 'https://www.musica.com/letras.asp?letra=2222747', 'https://www.musica.com/letras.asp?letra=2363207', 'https://www.musica.com/letras.asp?letra=2363206', 'https://www.musica.com/letras.asp?letra=2147777', 'https://www.musica.com/letras.asp?letra=2494007', 'https://www.musica.com/letras.asp?letra=2263287', 'https://www.musica.com/letras.asp?letra=2126776', 'https://www.musica.com/letras.asp?letra=2294528', 'https://www.musica.com/letras.asp?letra=2294521', 'https://www.musica.com/letras.asp?letra=2294527', 'https://www.musica.com/letras.asp?letra=2294520']\n['https://www.musica.com/letras.asp?letra=2295204', 'https://www.musica.com/letras.asp?letra=2294146', 'https://www.musica.com/letras.asp?letra=2091236', 'https://www.musica.com/letras.asp?letra=2294203', 'https://www.musica.com/letras.asp?letra=2294197', 'https://www.musica.com/letras.asp?letra=2126784', 'https://www.musica.com/letras.asp?letra=2126780', 'https://www.musica.com/letras.asp?letra=2126783', 'https://www.musica.com/letras.asp?letra=2294517', 'https://www.musica.com/letras.asp?letra=2294635', 'https://www.musica.com/letras.asp?letra=2126770', 'https://www.musica.com/letras.asp?letra=2111336', 'https://www.musica.com/letras.asp?letra=2324600', 'https://www.musica.com/letras.asp?letra=2126773', 'https://www.musica.com/letras.asp?letra=2222747', 'https://www.musica.com/letras.asp?letra=2363207', 'https://www.musica.com/letras.asp?letra=2363206', 'https://www.musica.com/letras.asp?letra=2147777', 'https://www.musica.com/letras.asp?letra=2494007', 'https://www.musica.com/letras.asp?letra=2263287', 'https://www.musica.com/letras.asp?letra=2126776', 'https://www.musica.com/letras.asp?letra=2294528', 'https://www.musica.com/letras.asp?letra=2294521', 'https://www.musica.com/letras.asp?letra=2294527', 'https://www.musica.com/letras.asp?letra=2294520']\n['https://www.musica.com/letras.asp?letra=2295204', 'https://www.musica.com/letras.asp?letra=2294146', 'https://www.musica.com/letras.asp?letra=2091236', 'https://www.musica.com/letras.asp?letra=2294203', 'https://www.musica.com/letras.asp?letra=2294197', 'https://www.musica.com/letras.asp?letra=2126784', 'https://www.musica.com/letras.asp?letra=2126780', 'https://www.musica.com/letras.asp?letra=2126783', 'https://www.musica.com/letras.asp?letra=2294517', 'https://www.musica.com/letras.asp?letra=2294635', 'https://www.musica.com/letras.asp?letra=2126770', 'https://www.musica.com/letras.asp?letra=2111336', 'https://www.musica.com/letras.asp?letra=2324600', 'https://www.musica.com/letras.asp?letra=2126773', 'https://www.musica.com/letras.asp?letra=2222747', 'https://www.musica.com/letras.asp?letra=2363207', 'https://www.musica.com/letras.asp?letra=2363206', 'https://www.musica.com/letras.asp?letra=2147777', 'https://www.musica.com/letras.asp?letra=2494007', 'https://www.musica.com/letras.asp?letra=2263287', 'https://www.musica.com/letras.asp?letra=2126776', 'https://www.musica.com/letras.asp?letra=2294528', 'https://www.musica.com/letras.asp?letra=2294521', 'https://www.musica.com/letras.asp?letra=2294527', 'https://www.musica.com/letras.asp?letra=2294520']\n['https://www.musica.com/letras.asp?letra=2295204', 'https://www.musica.com/letras.asp?letra=2294146', 'https://www.musica.com/letras.asp?letra=2091236', 'https://www.musica.com/letras.asp?letra=2294203', 'https://www.musica.com/letras.asp?letra=2294197', 'https://www.musica.com/letras.asp?letra=2126784', 'https://www.musica.com/letras.asp?letra=2126780', 'https://www.musica.com/letras.asp?letra=2126783', 'https://www.musica.com/letras.asp?letra=2294517', 'https://www.musica.com/letras.asp?letra=2294635', 'https://www.musica.com/letras.asp?letra=2126770', 'https://www.musica.com/letras.asp?letra=2111336', 'https://www.musica.com/letras.asp?letra=2324600', 'https://www.musica.com/letras.asp?letra=2126773', 'https://www.musica.com/letras.asp?letra=2222747', 'https://www.musica.com/letras.asp?letra=2363207', 'https://www.musica.com/letras.asp?letra=2363206', 'https://www.musica.com/letras.asp?letra=2147777', 'https://www.musica.com/letras.asp?letra=2494007', 'https://www.musica.com/letras.asp?letra=2263287', 'https://www.musica.com/letras.asp?letra=2126776', 'https://www.musica.com/letras.asp?letra=2294528', 'https://www.musica.com/letras.asp?letra=2294521', 'https://www.musica.com/letras.asp?letra=2294527', 'https://www.musica.com/letras.asp?letra=2294520']\n['https://www.musica.com/letras.asp?letra=2295204', 'https://www.musica.com/letras.asp?letra=2294146', 'https://www.musica.com/letras.asp?letra=2091236', 'https://www.musica.com/letras.asp?letra=2294203', 'https://www.musica.com/letras.asp?letra=2294197', 'https://www.musica.com/letras.asp?letra=2126784', 'https://www.musica.com/letras.asp?letra=2126780', 'https://www.musica.com/letras.asp?letra=2126783', 'https://www.musica.com/letras.asp?letra=2294517', 'https://www.musica.com/letras.asp?letra=2294635', 'https://www.musica.com/letras.asp?letra=2126770', 'https://www.musica.com/letras.asp?letra=2111336', 'https://www.musica.com/letras.asp?letra=2324600', 'https://www.musica.com/letras.asp?letra=2126773', 'https://www.musica.com/letras.asp?letra=2222747', 'https://www.musica.com/letras.asp?letra=2363207', 'https://www.musica.com/letras.asp?letra=2363206', 'https://www.musica.com/letras.asp?letra=2147777', 'https://www.musica.com/letras.asp?letra=2494007', 'https://www.musica.com/letras.asp?letra=2263287', 'https://www.musica.com/letras.asp?letra=2126776', 'https://www.musica.com/letras.asp?letra=2294528', 'https://www.musica.com/letras.asp?letra=2294521', 'https://www.musica.com/letras.asp?letra=2294527', 'https://www.musica.com/letras.asp?letra=2294520']\n['https://www.musica.com/letras.asp?letra=2295204', 'https://www.musica.com/letras.asp?letra=2294146', 'https://www.musica.com/letras.asp?letra=2091236', 'https://www.musica.com/letras.asp?letra=2294203', 'https://www.musica.com/letras.asp?letra=2294197', 'https://www.musica.com/letras.asp?letra=2126784', 'https://www.musica.com/letras.asp?letra=2126780', 'https://www.musica.com/letras.asp?letra=2126783', 'https://www.musica.com/letras.asp?letra=2294517', 'https://www.musica.com/letras.asp?letra=2294635', 'https://www.musica.com/letras.asp?letra=2126770', 'https://www.musica.com/letras.asp?letra=2111336', 'https://www.musica.com/letras.asp?letra=2324600', 'https://www.musica.com/letras.asp?letra=2126773', 'https://www.musica.com/letras.asp?letra=2222747', 'https://www.musica.com/letras.asp?letra=2363207', 'https://www.musica.com/letras.asp?letra=2363206', 'https://www.musica.com/letras.asp?letra=2147777', 'https://www.musica.com/letras.asp?letra=2494007', 'https://www.musica.com/letras.asp?letra=2263287', 'https://www.musica.com/letras.asp?letra=2126776', 'https://www.musica.com/letras.asp?letra=2294528', 'https://www.musica.com/letras.asp?letra=2294521', 'https://www.musica.com/letras.asp?letra=2294527', 'https://www.musica.com/letras.asp?letra=2294520']\n['https://www.musica.com/letras.asp?letra=2295204', 'https://www.musica.com/letras.asp?letra=2294146', 'https://www.musica.com/letras.asp?letra=2091236', 'https://www.musica.com/letras.asp?letra=2294203', 'https://www.musica.com/letras.asp?letra=2294197', 'https://www.musica.com/letras.asp?letra=2126784', 'https://www.musica.com/letras.asp?letra=2126780', 'https://www.musica.com/letras.asp?letra=2126783', 'https://www.musica.com/letras.asp?letra=2294517', 'https://www.musica.com/letras.asp?letra=2294635', 'https://www.musica.com/letras.asp?letra=2126770', 'https://www.musica.com/letras.asp?letra=2111336', 'https://www.musica.com/letras.asp?letra=2324600', 'https://www.musica.com/letras.asp?letra=2126773', 'https://www.musica.com/letras.asp?letra=2222747', 'https://www.musica.com/letras.asp?letra=2363207', 'https://www.musica.com/letras.asp?letra=2363206', 'https://www.musica.com/letras.asp?letra=2147777', 'https://www.musica.com/letras.asp?letra=2494007', 'https://www.musica.com/letras.asp?letra=2263287', 'https://www.musica.com/letras.asp?letra=2126776', 'https://www.musica.com/letras.asp?letra=2294528', 'https://www.musica.com/letras.asp?letra=2294521', 'https://www.musica.com/letras.asp?letra=2294527', 'https://www.musica.com/letras.asp?letra=2294520']\n['https://www.musica.com/letras.asp?letra=2295204', 'https://www.musica.com/letras.asp?letra=2294146', 'https://www.musica.com/letras.asp?letra=2091236', 'https://www.musica.com/letras.asp?letra=2294203', 'https://www.musica.com/letras.asp?letra=2294197', 'https://www.musica.com/letras.asp?letra=2126784', 'https://www.musica.com/letras.asp?letra=2126780', 'https://www.musica.com/letras.asp?letra=2126783', 'https://www.musica.com/letras.asp?letra=2294517', 'https://www.musica.com/letras.asp?letra=2294635', 'https://www.musica.com/letras.asp?letra=2126770', 'https://www.musica.com/letras.asp?letra=2111336', 'https://www.musica.com/letras.asp?letra=2324600', 'https://www.musica.com/letras.asp?letra=2126773', 'https://www.musica.com/letras.asp?letra=2222747', 'https://www.musica.com/letras.asp?letra=2363207', 'https://www.musica.com/letras.asp?letra=2363206', 'https://www.musica.com/letras.asp?letra=2147777', 'https://www.musica.com/letras.asp?letra=2494007', 'https://www.musica.com/letras.asp?letra=2263287', 'https://www.musica.com/letras.asp?letra=2126776', 'https://www.musica.com/letras.asp?letra=2294528', 'https://www.musica.com/letras.asp?letra=2294521', 'https://www.musica.com/letras.asp?letra=2294527', 'https://www.musica.com/letras.asp?letra=2294520']\n['https://www.musica.com/letras.asp?letra=2295204', 'https://www.musica.com/letras.asp?letra=2294146', 'https://www.musica.com/letras.asp?letra=2091236', 'https://www.musica.com/letras.asp?letra=2294203', 'https://www.musica.com/letras.asp?letra=2294197', 'https://www.musica.com/letras.asp?letra=2126784', 'https://www.musica.com/letras.asp?letra=2126780', 'https://www.musica.com/letras.asp?letra=2126783', 'https://www.musica.com/letras.asp?letra=2294517', 'https://www.musica.com/letras.asp?letra=2294635', 'https://www.musica.com/letras.asp?letra=2126770', 'https://www.musica.com/letras.asp?letra=2111336', 'https://www.musica.com/letras.asp?letra=2324600', 'https://www.musica.com/letras.asp?letra=2126773', 'https://www.musica.com/letras.asp?letra=2222747', 'https://www.musica.com/letras.asp?letra=2363207', 'https://www.musica.com/letras.asp?letra=2363206', 'https://www.musica.com/letras.asp?letra=2147777', 'https://www.musica.com/letras.asp?letra=2494007', 'https://www.musica.com/letras.asp?letra=2263287', 'https://www.musica.com/letras.asp?letra=2126776', 'https://www.musica.com/letras.asp?letra=2294528', 'https://www.musica.com/letras.asp?letra=2294521', 'https://www.musica.com/letras.asp?letra=2294527', 'https://www.musica.com/letras.asp?letra=2294520']\n['https://www.musica.com/letras.asp?letra=2295204', 'https://www.musica.com/letras.asp?letra=2294146', 'https://www.musica.com/letras.asp?letra=2091236', 'https://www.musica.com/letras.asp?letra=2294203', 'https://www.musica.com/letras.asp?letra=2294197', 'https://www.musica.com/letras.asp?letra=2126784', 'https://www.musica.com/letras.asp?letra=2126780', 'https://www.musica.com/letras.asp?letra=2126783', 'https://www.musica.com/letras.asp?letra=2294517', 'https://www.musica.com/letras.asp?letra=2294635', 'https://www.musica.com/letras.asp?letra=2126770', 'https://www.musica.com/letras.asp?letra=2111336', 'https://www.musica.com/letras.asp?letra=2324600', 'https://www.musica.com/letras.asp?letra=2126773', 'https://www.musica.com/letras.asp?letra=2222747', 'https://www.musica.com/letras.asp?letra=2363207', 'https://www.musica.com/letras.asp?letra=2363206', 'https://www.musica.com/letras.asp?letra=2147777', 'https://www.musica.com/letras.asp?letra=2494007', 'https://www.musica.com/letras.asp?letra=2263287', 'https://www.musica.com/letras.asp?letra=2126776', 'https://www.musica.com/letras.asp?letra=2294528', 'https://www.musica.com/letras.asp?letra=2294521', 'https://www.musica.com/letras.asp?letra=2294527', 'https://www.musica.com/letras.asp?letra=2294520']\n['https://www.musica.com/letras.asp?letra=2295204', 'https://www.musica.com/letras.asp?letra=2294146', 'https://www.musica.com/letras.asp?letra=2091236', 'https://www.musica.com/letras.asp?letra=2294203', 'https://www.musica.com/letras.asp?letra=2294197', 'https://www.musica.com/letras.asp?letra=2126784', 'https://www.musica.com/letras.asp?letra=2126780', 'https://www.musica.com/letras.asp?letra=2126783', 'https://www.musica.com/letras.asp?letra=2294517', 'https://www.musica.com/letras.asp?letra=2294635', 'https://www.musica.com/letras.asp?letra=2126770', 'https://www.musica.com/letras.asp?letra=2111336', 'https://www.musica.com/letras.asp?letra=2324600', 'https://www.musica.com/letras.asp?letra=2126773', 'https://www.musica.com/letras.asp?letra=2222747', 'https://www.musica.com/letras.asp?letra=2363207', 'https://www.musica.com/letras.asp?letra=2363206', 'https://www.musica.com/letras.asp?letra=2147777', 'https://www.musica.com/letras.asp?letra=2494007', 'https://www.musica.com/letras.asp?letra=2263287', 'https://www.musica.com/letras.asp?letra=2126776', 'https://www.musica.com/letras.asp?letra=2294528', 'https://www.musica.com/letras.asp?letra=2294521', 'https://www.musica.com/letras.asp?letra=2294527', 'https://www.musica.com/letras.asp?letra=2294520']\n['https://www.musica.com/letras.asp?letra=2295204', 'https://www.musica.com/letras.asp?letra=2294146', 'https://www.musica.com/letras.asp?letra=2091236', 'https://www.musica.com/letras.asp?letra=2294203', 'https://www.musica.com/letras.asp?letra=2294197', 'https://www.musica.com/letras.asp?letra=2126784', 'https://www.musica.com/letras.asp?letra=2126780', 'https://www.musica.com/letras.asp?letra=2126783', 'https://www.musica.com/letras.asp?letra=2294517', 'https://www.musica.com/letras.asp?letra=2294635', 'https://www.musica.com/letras.asp?letra=2126770', 'https://www.musica.com/letras.asp?letra=2111336', 'https://www.musica.com/letras.asp?letra=2324600', 'https://www.musica.com/letras.asp?letra=2126773', 'https://www.musica.com/letras.asp?letra=2222747', 'https://www.musica.com/letras.asp?letra=2363207', 'https://www.musica.com/letras.asp?letra=2363206', 'https://www.musica.com/letras.asp?letra=2147777', 'https://www.musica.com/letras.asp?letra=2494007', 'https://www.musica.com/letras.asp?letra=2263287', 'https://www.musica.com/letras.asp?letra=2126776', 'https://www.musica.com/letras.asp?letra=2294528', 'https://www.musica.com/letras.asp?letra=2294521', 'https://www.musica.com/letras.asp?letra=2294527', 'https://www.musica.com/letras.asp?letra=2294520']\n"
    }
   ],
   "source": [
    "#Saving in a list called links, all the song's links\n",
    "links = get_links(\"https://www.musica.com/letras.asp?letras=46162\")"
   ]
  },
  {
   "cell_type": "code",
   "execution_count": 24,
   "metadata": {},
   "outputs": [
    {
     "output_type": "stream",
     "name": "stdout",
     "text": "https://www.musica.com/letras.asp?letra=2294517\n"
    },
    {
     "output_type": "execute_result",
     "data": {
      "text/plain": "25"
     },
     "metadata": {},
     "execution_count": 24
    }
   ],
   "source": [
    "# Checking out links list\n",
    "print(links[8])\n",
    "len(links)"
   ]
  },
  {
   "cell_type": "code",
   "execution_count": 25,
   "metadata": {},
   "outputs": [
    {
     "output_type": "execute_result",
     "data": {
      "text/plain": "\"Letra 'BLOOD.'\""
     },
     "metadata": {},
     "execution_count": 25
    }
   ],
   "source": [
    "links_me = requests.get(links[8]) #get request of the link number 8\n",
    "links_me = links_me.content # access to the content\n",
    "soup_me = soup(links_me) #saves it in soup_me\n",
    "soup_me.find('h3').get_text() #fin firt element with 'h3' tag\n"
   ]
  },
  {
   "cell_type": "code",
   "execution_count": 35,
   "metadata": {},
   "outputs": [
    {
     "output_type": "stream",
     "name": "stdout",
     "text": "I got so many theories and suspicions I'm diagnosed with real ni*** conditions Today is the day I follow my intuition Keep the family close, get money, f*** bitches I double parked the Aston in the red My mama told me that I'ma work myself to death My girl told me don't let these hoes get in my head My world been ecstatic, I checked the signal that read\nBuzzin', radars is buzzin' Yah, yah, yah, yah Yah, yah, yah, yah Buzzin', radars is buzzin' Yah, yah, yah, yah Yah, yah, yah, yah\nInterviews wanna know my thoughts and opinions Fox News wanna use my name for percentage My latest news is my niece, she's worth livin' See me on the TV and scream, \"That's Uncle Kendrick\" Yeah, that's the business Somebody tell Geraldo this ni*** got some ambition I'm not a politician, I'm not 'bout a religion I'ma Israelite, don't call me Black no mo' That word is only a color, it ain't facts no mo' My cousin called, my cousin called Duckworth Said, \"Know my worth\" And Deuteronomy say that we all been cursed I know he walks the Earth But it's money to get, bitches to hit, yah Zeroes to flip, temptation is yah First on my list, I can't resist, yah Everyone together now, know that we forever\nBuzzin', radars is buzzin' Yah, yah, yah, yah Yah, yah, yah, yah Buzzin', radars is buzzin' Yah, yah, yah, yah Yah, yah, yah, yah\n"
    }
   ],
   "source": [
    "# How to get the song's lyrics\n",
    "# <div class = \"letra\"> <p> *lyrics are here* </p> </div>\n",
    "\n",
    "# for i in soup_me.find(\"div\", {\"class\":\"letra\"}).find_all(\"p\"):\n",
    "#     print(i)\n",
    "\n",
    "for i in soup_me.find(\"div\", {\"class\" : \"letra\"}).find_all(\"p\"):\n",
    "    if i.has_attr(\"class\"):\n",
    "        break\n",
    "    elif i.a:\n",
    "        pass\n",
    "    else:\n",
    "        print(i.get_text(strip = True, separator = \" \"))"
   ]
  },
  {
   "cell_type": "code",
   "execution_count": 26,
   "metadata": {},
   "outputs": [],
   "source": [
    "# Function to get the song\n",
    "\n",
    "def get_song(song_url):\n",
    "\n",
    "    links_ = requests.get(song_url)\n",
    "    links_ = links_.content\n",
    "    soup_ = soup(links_)\n",
    "\n",
    "    title = soup_.find('h3').get_text()\n",
    "    lyrics = []\n",
    "\n",
    "    for i in soup_.find(\"div\", {\"class\" : \"letra\"}).find_all(\"p\"):\n",
    "        if i.has_attr(\"class\"):\n",
    "            break\n",
    "        elif i.a:\n",
    "            pass\n",
    "        else:\n",
    "            lyrics.append((i.get_text(strip = True, separator = \" \")))\n",
    "    \n",
    "    lyrics = \" \".join([str(elem) for elem in lyrics])\n",
    "\n",
    "    song = {\"title\" : title,\n",
    "            \"lyrics\" : lyrics}\n",
    "\n",
    "    return song\n"
   ]
  },
  {
   "cell_type": "code",
   "execution_count": 42,
   "metadata": {},
   "outputs": [
    {
     "output_type": "stream",
     "name": "stdout",
     "text": "https://www.musica.com/letras.asp?letra=2091236\nhttps://www.musica.com/letras.asp?letra=2291526\nhttps://www.musica.com/letras.asp?letra=2294146\nhttps://www.musica.com/letras.asp?letra=2294197\nhttps://www.musica.com/letras.asp?letra=2294528\nhttps://www.musica.com/letras.asp?letra=2294529\nhttps://www.musica.com/letras.asp?letra=2294203\nhttps://www.musica.com/letras.asp?letra=2126771\nhttps://www.musica.com/letras.asp?letra=2294519\nhttps://www.musica.com/letras.asp?letra=2494007\nhttps://www.musica.com/letras.asp?letra=2263287\nhttps://www.musica.com/letras.asp?letra=2126776\nhttps://www.musica.com/letras.asp?letra=2380882\nhttps://www.musica.com/letras.asp?letra=2295204\nhttps://www.musica.com/letras.asp?letra=2294521\nhttps://www.musica.com/letras.asp?letra=2294527\nhttps://www.musica.com/letras.asp?letra=2294520\nhttps://www.musica.com/letras.asp?letra=2126784\nhttps://www.musica.com/letras.asp?letra=2126780\nhttps://www.musica.com/letras.asp?letra=2126783\nhttps://www.musica.com/letras.asp?letra=2294517\nhttps://www.musica.com/letras.asp?letra=2294635\nhttps://www.musica.com/letras.asp?letra=2126770\nhttps://www.musica.com/letras.asp?letra=2111336\nhttps://www.musica.com/letras.asp?letra=2324600\n"
    }
   ],
   "source": [
    "songs = []\n",
    "\n",
    "for link in links:  #in links we have saved the return of the function get_links(\"www.musica.com/blabl\")\n",
    "    print(link)\n",
    "    songs.append(get_song(link))"
   ]
  },
  {
   "cell_type": "code",
   "execution_count": 43,
   "metadata": {},
   "outputs": [
    {
     "output_type": "execute_result",
     "data": {
      "text/plain": "{'title': \"Letra 'LOVE.'\",\n 'lyrics': \"Damn, love or lust Damn, all of us [Chorus: Zacari & Kendrick Lamar] Give me a run for my money There is nobody, no one to outrun me (Another world premier!) So give me a run for my money Sipping bubbly, feeling lovely, living lovely Just love me I wanna be with you, ayy, I wanna be with I wanna be with you, ayy, I wanna be with I wanna be with you [Refrain: Kendrick Lamar] If I didn't ride blade on curb, would you still (love me?) If I made up my mind at work, would you still (love me?) Keep it a hundred, I'd rather you trust me than to (love me) Keep it a whole one hund': don't got you, I got nothin' [Verse 1: Kendrick Lamar] Ay, I got somethin' (I got somethin') Hol' up, we gon' function, no assumptions Feelin' like Tyson with it Knock it out twice, I'm with it Only for the night, I'm kiddin' Only for life, you're a homie for life You're a homie for life, let's get it Hit that shoulder lean I know what comin' over mean Backstroke oversea I know what you need Already on ten, our money come in All feeling go out, this feeling don't drought This party won't end [Refrain: Kendrick Lamar] If I didn't ride blade on curb, would you still (love me?) If I made up my mind at work, would you still (love me?) Keep it a hundred, I'd rather you trust me than to (love me) Keep it a whole one hund': don't got you, I got nothin' [Chorus: Zacari & Kendrick Lamar] Give me a run for my money There is nobody, no one to outrun me So give me a run for my money Sippin' bubbly, feelin' lovely, livin' lovely Just love me I wanna be with you, ayy, I wanna be with I wanna be with you, ayy, I wanna be with I wanna be with you [Verse 2: Kendrick Lamar] I'm on the way We ain't got no time to waste Poppin' your gum on the way Am I in the way? I don't want to pressure you none I want your blessing today Oh, by the way, open the door by the way Told you that I'm on the way I'm on the way, I know connection is vague Pick up the phone for me, babe Damn it, we jammin' Bad attitude for your nanny Curves and your hips from yo' mammy Remember Gardena, I took the studio camera I know Top will be mad at me I had to do it, I want your body, your music I bought the big one to prove it Look what you've made Told you that I'm on the way I'm like an exit away, yep [Refrain: Kendrick Lamar] If didn't ride blade on curb, would you still (love me?) If I made up my mind at work, would you still (love me?) Keep it a hundred, I'd rather you trust me than to (love me) Keep it a whole one hund': don't got you, I got nothin' [Chorus: Zacari & Kendrick Lamar] Give me a run for my money There is nobody, no one to outrun me So give me a run for my money Sippin' bubbly, feelin' lovely, livin' lovely Just love me I wanna be with you, ayy, I wanna be with I wanna be with you, ayy, I wanna be with I wanna be with you\"}"
     },
     "metadata": {},
     "execution_count": 43
    }
   ],
   "source": [
    "songs[2]"
   ]
  },
  {
   "cell_type": "code",
   "execution_count": 50,
   "metadata": {},
   "outputs": [
    {
     "output_type": "execute_result",
     "data": {
      "text/plain": "                                    title  \\\n0             Swimming Pools (en español)   \n1                          Letra 'Humble'   \n2                           Letra 'LOVE.'   \n3                            Letra 'DNA.'   \n4                            Letra 'GOD.'   \n5                      Letra 'DUCKWORTH.'   \n6                         Letra 'Loyalty'   \n7                Money Trees (en español)   \n8                            Letra 'YAH.'   \n9               Letra 'Growing Apart Too'   \n10                     Letra 'Goosebumps'   \n11                       Letra 'Good Kid'   \n12              Letra 'Doves In The Wind'   \n13                      DNA. (en español)   \n14                          Letra 'FEEL.'   \n15                          Letra 'FEAR.'   \n16                       Letra 'ELEMENT.'   \n17          Letra 'County Building Blues'   \n18                        Letra 'Compton'   \n19                  Letra 'Collect Calls'   \n20                         Letra 'BLOOD.'   \n21                     Blood (en español)   \n22  Bitch Don't Kill My Vibe (en español)   \n23       Letra 'Bitch Don't Kill My Vibe'   \n24                Letra 'Bad Blood Remix'   \n\n                                               lyrics  \n0   Vierta arriba, bebían, disparo en la cabeza, b...  \n1   Wicked or weakness You gotta see this Waaaaay ...  \n2   Damn, love or lust Damn, all of us [Chorus: Za...  \n3   I got, I got, I got, I got Loyalty, got royalt...  \n4   This what God feel like, yeah Laughing to the ...  \n5   It was always me versus the world Until I foun...  \n6   [Intro: Mr. Talkbox] ​rehgih uoY ​thginoT ​yks...  \n7   [Verse 1: Kendrick Lamar] Yo y mis niggas trat...  \n8   I got so many theories and suspicions I'm diag...  \n9   Where are you going now? Why are you slowing d...  \n10  Yeah 7:30 in the night Ooooh ooh I get those g...  \n11  [Hook] Mass hallucination baby Ill education b...  \n12  DOVES IN THE WIND es una canción de SZA y Kend...  \n13  Tengo, tengo, tengo, tengo La lealtad, tengo r...  \n14  Ain't nobody prayin' for me Ain't nobody prayi...  \n15  I don't think I can find a way to make it on t...  \n16  New Kung Fu Kenny Ain't nobody prayin' for me ...  \n17  COUNTY BUILDING BLUES es una canción de Kendri...  \n18  [Verse 1: Kendrick Lamar] Now everybody serena...  \n19  [Intro] Look at all the bullsh*t I been throug...  \n20  Is it wickedness? Is it weakness? You decide A...  \n21  ¿Es malicia? ¿Es debilidad? Tú decides ¿Vamos ...  \n22  [Hook] Soy un pecador que probablemente va a p...  \n23  [Hook] I am a sinner who's probably gonna sin ...  \n24  BAD BLOOD REMIX es una canción de Taylor Swift...  ",
      "text/html": "<div>\n<style scoped>\n    .dataframe tbody tr th:only-of-type {\n        vertical-align: middle;\n    }\n\n    .dataframe tbody tr th {\n        vertical-align: top;\n    }\n\n    .dataframe thead th {\n        text-align: right;\n    }\n</style>\n<table border=\"1\" class=\"dataframe\">\n  <thead>\n    <tr style=\"text-align: right;\">\n      <th></th>\n      <th>title</th>\n      <th>lyrics</th>\n    </tr>\n  </thead>\n  <tbody>\n    <tr>\n      <th>0</th>\n      <td>Swimming Pools (en español)</td>\n      <td>Vierta arriba, bebían, disparo en la cabeza, b...</td>\n    </tr>\n    <tr>\n      <th>1</th>\n      <td>Letra 'Humble'</td>\n      <td>Wicked or weakness You gotta see this Waaaaay ...</td>\n    </tr>\n    <tr>\n      <th>2</th>\n      <td>Letra 'LOVE.'</td>\n      <td>Damn, love or lust Damn, all of us [Chorus: Za...</td>\n    </tr>\n    <tr>\n      <th>3</th>\n      <td>Letra 'DNA.'</td>\n      <td>I got, I got, I got, I got Loyalty, got royalt...</td>\n    </tr>\n    <tr>\n      <th>4</th>\n      <td>Letra 'GOD.'</td>\n      <td>This what God feel like, yeah Laughing to the ...</td>\n    </tr>\n    <tr>\n      <th>5</th>\n      <td>Letra 'DUCKWORTH.'</td>\n      <td>It was always me versus the world Until I foun...</td>\n    </tr>\n    <tr>\n      <th>6</th>\n      <td>Letra 'Loyalty'</td>\n      <td>[Intro: Mr. Talkbox] ​rehgih uoY ​thginoT ​yks...</td>\n    </tr>\n    <tr>\n      <th>7</th>\n      <td>Money Trees (en español)</td>\n      <td>[Verse 1: Kendrick Lamar] Yo y mis niggas trat...</td>\n    </tr>\n    <tr>\n      <th>8</th>\n      <td>Letra 'YAH.'</td>\n      <td>I got so many theories and suspicions I'm diag...</td>\n    </tr>\n    <tr>\n      <th>9</th>\n      <td>Letra 'Growing Apart Too'</td>\n      <td>Where are you going now? Why are you slowing d...</td>\n    </tr>\n    <tr>\n      <th>10</th>\n      <td>Letra 'Goosebumps'</td>\n      <td>Yeah 7:30 in the night Ooooh ooh I get those g...</td>\n    </tr>\n    <tr>\n      <th>11</th>\n      <td>Letra 'Good Kid'</td>\n      <td>[Hook] Mass hallucination baby Ill education b...</td>\n    </tr>\n    <tr>\n      <th>12</th>\n      <td>Letra 'Doves In The Wind'</td>\n      <td>DOVES IN THE WIND es una canción de SZA y Kend...</td>\n    </tr>\n    <tr>\n      <th>13</th>\n      <td>DNA. (en español)</td>\n      <td>Tengo, tengo, tengo, tengo La lealtad, tengo r...</td>\n    </tr>\n    <tr>\n      <th>14</th>\n      <td>Letra 'FEEL.'</td>\n      <td>Ain't nobody prayin' for me Ain't nobody prayi...</td>\n    </tr>\n    <tr>\n      <th>15</th>\n      <td>Letra 'FEAR.'</td>\n      <td>I don't think I can find a way to make it on t...</td>\n    </tr>\n    <tr>\n      <th>16</th>\n      <td>Letra 'ELEMENT.'</td>\n      <td>New Kung Fu Kenny Ain't nobody prayin' for me ...</td>\n    </tr>\n    <tr>\n      <th>17</th>\n      <td>Letra 'County Building Blues'</td>\n      <td>COUNTY BUILDING BLUES es una canción de Kendri...</td>\n    </tr>\n    <tr>\n      <th>18</th>\n      <td>Letra 'Compton'</td>\n      <td>[Verse 1: Kendrick Lamar] Now everybody serena...</td>\n    </tr>\n    <tr>\n      <th>19</th>\n      <td>Letra 'Collect Calls'</td>\n      <td>[Intro] Look at all the bullsh*t I been throug...</td>\n    </tr>\n    <tr>\n      <th>20</th>\n      <td>Letra 'BLOOD.'</td>\n      <td>Is it wickedness? Is it weakness? You decide A...</td>\n    </tr>\n    <tr>\n      <th>21</th>\n      <td>Blood (en español)</td>\n      <td>¿Es malicia? ¿Es debilidad? Tú decides ¿Vamos ...</td>\n    </tr>\n    <tr>\n      <th>22</th>\n      <td>Bitch Don't Kill My Vibe (en español)</td>\n      <td>[Hook] Soy un pecador que probablemente va a p...</td>\n    </tr>\n    <tr>\n      <th>23</th>\n      <td>Letra 'Bitch Don't Kill My Vibe'</td>\n      <td>[Hook] I am a sinner who's probably gonna sin ...</td>\n    </tr>\n    <tr>\n      <th>24</th>\n      <td>Letra 'Bad Blood Remix'</td>\n      <td>BAD BLOOD REMIX es una canción de Taylor Swift...</td>\n    </tr>\n  </tbody>\n</table>\n</div>"
     },
     "metadata": {},
     "execution_count": 50
    }
   ],
   "source": [
    "df_songs_kLamar = pd.DataFrame(songs)\n",
    "df_songs_kLamar"
   ]
  },
  {
   "cell_type": "code",
   "execution_count": 53,
   "metadata": {},
   "outputs": [
    {
     "output_type": "execute_result",
     "data": {
      "text/plain": "                                    title  \\\n0             Swimming Pools (en español)   \n1                          Letra 'Humble'   \n2                           Letra 'LOVE.'   \n3                            Letra 'DNA.'   \n4                            Letra 'GOD.'   \n5                      Letra 'DUCKWORTH.'   \n6                         Letra 'Loyalty'   \n7                Money Trees (en español)   \n8                            Letra 'YAH.'   \n9               Letra 'Growing Apart Too'   \n10                     Letra 'Goosebumps'   \n11                       Letra 'Good Kid'   \n12              Letra 'Doves In The Wind'   \n13                      DNA. (en español)   \n14                          Letra 'FEEL.'   \n15                          Letra 'FEAR.'   \n16                       Letra 'ELEMENT.'   \n17          Letra 'County Building Blues'   \n18                        Letra 'Compton'   \n19                  Letra 'Collect Calls'   \n20                         Letra 'BLOOD.'   \n21                     Blood (en español)   \n22  Bitch Don't Kill My Vibe (en español)   \n23       Letra 'Bitch Don't Kill My Vibe'   \n24                Letra 'Bad Blood Remix'   \n\n                                               lyrics  \n0   Vierta arriba, bebían, disparo en la cabeza, b...  \n1   Wicked or weakness You gotta see this Waaaaay ...  \n2   Damn, love or lust Damn, all of us [Chorus: Za...  \n3   I got, I got, I got, I got Loyalty, got royalt...  \n4   This what God feel like, yeah Laughing to the ...  \n5   It was always me versus the world Until I foun...  \n6   [Intro: Mr. Talkbox] ​rehgih uoY ​thginoT ​yks...  \n7   [Verse 1: Kendrick Lamar] Yo y mis niggas trat...  \n8   I got so many theories and suspicions I'm diag...  \n9   Where are you going now? Why are you slowing d...  \n10  Yeah 7:30 in the night Ooooh ooh I get those g...  \n11  [Hook] Mass hallucination baby Ill education b...  \n12  DOVES IN THE WIND es una canción de SZA y Kend...  \n13  Tengo, tengo, tengo, tengo La lealtad, tengo r...  \n14  Ain't nobody prayin' for me Ain't nobody prayi...  \n15  I don't think I can find a way to make it on t...  \n16  New Kung Fu Kenny Ain't nobody prayin' for me ...  \n17  COUNTY BUILDING BLUES es una canción de Kendri...  \n18  [Verse 1: Kendrick Lamar] Now everybody serena...  \n19  [Intro] Look at all the bullsh*t I been throug...  \n20  Is it wickedness? Is it weakness? You decide A...  \n21  ¿Es malicia? ¿Es debilidad? Tú decides ¿Vamos ...  \n22  [Hook] Soy un pecador que probablemente va a p...  \n23  [Hook] I am a sinner who's probably gonna sin ...  \n24  BAD BLOOD REMIX es una canción de Taylor Swift...  ",
      "text/html": "<div>\n<style scoped>\n    .dataframe tbody tr th:only-of-type {\n        vertical-align: middle;\n    }\n\n    .dataframe tbody tr th {\n        vertical-align: top;\n    }\n\n    .dataframe thead th {\n        text-align: right;\n    }\n</style>\n<table border=\"1\" class=\"dataframe\">\n  <thead>\n    <tr style=\"text-align: right;\">\n      <th></th>\n      <th>title</th>\n      <th>lyrics</th>\n    </tr>\n  </thead>\n  <tbody>\n    <tr>\n      <th>0</th>\n      <td>Swimming Pools (en español)</td>\n      <td>Vierta arriba, bebían, disparo en la cabeza, b...</td>\n    </tr>\n    <tr>\n      <th>1</th>\n      <td>Letra 'Humble'</td>\n      <td>Wicked or weakness You gotta see this Waaaaay ...</td>\n    </tr>\n    <tr>\n      <th>2</th>\n      <td>Letra 'LOVE.'</td>\n      <td>Damn, love or lust Damn, all of us [Chorus: Za...</td>\n    </tr>\n    <tr>\n      <th>3</th>\n      <td>Letra 'DNA.'</td>\n      <td>I got, I got, I got, I got Loyalty, got royalt...</td>\n    </tr>\n    <tr>\n      <th>4</th>\n      <td>Letra 'GOD.'</td>\n      <td>This what God feel like, yeah Laughing to the ...</td>\n    </tr>\n    <tr>\n      <th>5</th>\n      <td>Letra 'DUCKWORTH.'</td>\n      <td>It was always me versus the world Until I foun...</td>\n    </tr>\n    <tr>\n      <th>6</th>\n      <td>Letra 'Loyalty'</td>\n      <td>[Intro: Mr. Talkbox] ​rehgih uoY ​thginoT ​yks...</td>\n    </tr>\n    <tr>\n      <th>7</th>\n      <td>Money Trees (en español)</td>\n      <td>[Verse 1: Kendrick Lamar] Yo y mis niggas trat...</td>\n    </tr>\n    <tr>\n      <th>8</th>\n      <td>Letra 'YAH.'</td>\n      <td>I got so many theories and suspicions I'm diag...</td>\n    </tr>\n    <tr>\n      <th>9</th>\n      <td>Letra 'Growing Apart Too'</td>\n      <td>Where are you going now? Why are you slowing d...</td>\n    </tr>\n    <tr>\n      <th>10</th>\n      <td>Letra 'Goosebumps'</td>\n      <td>Yeah 7:30 in the night Ooooh ooh I get those g...</td>\n    </tr>\n    <tr>\n      <th>11</th>\n      <td>Letra 'Good Kid'</td>\n      <td>[Hook] Mass hallucination baby Ill education b...</td>\n    </tr>\n    <tr>\n      <th>12</th>\n      <td>Letra 'Doves In The Wind'</td>\n      <td>DOVES IN THE WIND es una canción de SZA y Kend...</td>\n    </tr>\n    <tr>\n      <th>13</th>\n      <td>DNA. (en español)</td>\n      <td>Tengo, tengo, tengo, tengo La lealtad, tengo r...</td>\n    </tr>\n    <tr>\n      <th>14</th>\n      <td>Letra 'FEEL.'</td>\n      <td>Ain't nobody prayin' for me Ain't nobody prayi...</td>\n    </tr>\n    <tr>\n      <th>15</th>\n      <td>Letra 'FEAR.'</td>\n      <td>I don't think I can find a way to make it on t...</td>\n    </tr>\n    <tr>\n      <th>16</th>\n      <td>Letra 'ELEMENT.'</td>\n      <td>New Kung Fu Kenny Ain't nobody prayin' for me ...</td>\n    </tr>\n    <tr>\n      <th>17</th>\n      <td>Letra 'County Building Blues'</td>\n      <td>COUNTY BUILDING BLUES es una canción de Kendri...</td>\n    </tr>\n    <tr>\n      <th>18</th>\n      <td>Letra 'Compton'</td>\n      <td>[Verse 1: Kendrick Lamar] Now everybody serena...</td>\n    </tr>\n    <tr>\n      <th>19</th>\n      <td>Letra 'Collect Calls'</td>\n      <td>[Intro] Look at all the bullsh*t I been throug...</td>\n    </tr>\n    <tr>\n      <th>20</th>\n      <td>Letra 'BLOOD.'</td>\n      <td>Is it wickedness? Is it weakness? You decide A...</td>\n    </tr>\n    <tr>\n      <th>21</th>\n      <td>Blood (en español)</td>\n      <td>¿Es malicia? ¿Es debilidad? Tú decides ¿Vamos ...</td>\n    </tr>\n    <tr>\n      <th>22</th>\n      <td>Bitch Don't Kill My Vibe (en español)</td>\n      <td>[Hook] Soy un pecador que probablemente va a p...</td>\n    </tr>\n    <tr>\n      <th>23</th>\n      <td>Letra 'Bitch Don't Kill My Vibe'</td>\n      <td>[Hook] I am a sinner who's probably gonna sin ...</td>\n    </tr>\n    <tr>\n      <th>24</th>\n      <td>Letra 'Bad Blood Remix'</td>\n      <td>BAD BLOOD REMIX es una canción de Taylor Swift...</td>\n    </tr>\n  </tbody>\n</table>\n</div>"
     },
     "metadata": {},
     "execution_count": 53
    }
   ],
   "source": [
    "df_songs_kLamar[\"title\"] = df_songs_kLamar[\"title\"].str.replace(\"\\(Letra/Lyrics\\)\", \"\")\n",
    "df_songs_kLamar\n"
   ]
  }
 ],
 "metadata": {
  "language_info": {
   "codemirror_mode": {
    "name": "ipython",
    "version": 3
   },
   "file_extension": ".py",
   "mimetype": "text/x-python",
   "name": "python",
   "nbconvert_exporter": "python",
   "pygments_lexer": "ipython3",
   "version": "3.8.2-final"
  },
  "orig_nbformat": 2,
  "kernelspec": {
   "name": "python38232biteb47039ee8b34c52b187673b1558ccdd",
   "display_name": "Python 3.8.2 32-bit"
  }
 },
 "nbformat": 4,
 "nbformat_minor": 2
}