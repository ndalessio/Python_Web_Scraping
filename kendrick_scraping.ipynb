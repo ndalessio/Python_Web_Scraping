{
 "cells": [
  {
   "cell_type": "code",
   "execution_count": 14,
   "metadata": {},
   "outputs": [],
   "source": [
    "from urllib.request import urlopen\n",
    "import requests\n",
    "from bs4 import BeautifulSoup as soup\n",
    "import re\n",
    "import pandas as pd\n"
   ]
  },
  {
   "cell_type": "code",
   "execution_count": 16,
   "metadata": {},
   "outputs": [],
   "source": [
    "#To check how soup Beautiful Soup works (soup)\n",
    "links_me = requests.get(\"https://www.musica.com/letras.asp?letras=46162\")\n",
    "links_me = links_me.content\n",
    "soup_me = soup(links_me)"
   ]
  },
  {
   "cell_type": "code",
   "execution_count": null,
   "metadata": {},
   "outputs": [],
   "source": [
    "# Function to get the links of a song's URL in musica.com website\n",
    "def get_links(url):\n",
    "    html = urlopen(url)\n",
    "    bsOb = soup(html)\n",
    "    links = []\n",
    "    for link in bsOb.find_all(\"a\", href = True):\n",
    "        if(\"letra=\" in link.attrs[\"href\"]) & ~(link.has_attr(\"title\")):\n",
    "            links.append(\"https://www.musica.com/\" + link.attrs[\"href\"])\n",
    "        else:\n",
    "            pass\n",
    "    return(links)"
   ]
  },
  {
   "cell_type": "code",
   "execution_count": 17,
   "metadata": {
    "tags": []
   },
   "outputs": [],
   "source": [
    "#Saving in a list called links, all the song's links\n",
    "links = get_links(\"https://www.musica.com/letras.asp?letras=46162\")"
   ]
  },
  {
   "cell_type": "code",
   "execution_count": 18,
   "metadata": {
    "tags": []
   },
   "outputs": [
    {
     "output_type": "stream",
     "name": "stdout",
     "text": "https://www.musica.com/letras.asp?letra=2126770\n"
    },
    {
     "output_type": "execute_result",
     "data": {
      "text/plain": "25"
     },
     "metadata": {},
     "execution_count": 18
    }
   ],
   "source": [
    "# Checking out links list\n",
    "print(links[8])\n",
    "len(links)"
   ]
  },
  {
   "cell_type": "code",
   "execution_count": null,
   "metadata": {},
   "outputs": [],
   "source": [
    "links_me = requests.get(links[8]) #get request of the link number 8\n",
    "links_me = links_me.content # access to the content\n",
    "soup_me = soup(links_me) #saves it in soup_me\n",
    "soup_me.find('h3').get_text() #fin firt element with 'h3' tag\n"
   ]
  },
  {
   "cell_type": "code",
   "execution_count": 35,
   "metadata": {},
   "outputs": [
    {
     "output_type": "stream",
     "name": "stdout",
     "text": "I got so many theories and suspicions I'm diagnosed with real ni*** conditions Today is the day I follow my intuition Keep the family close, get money, f*** bitches I double parked the Aston in the red My mama told me that I'ma work myself to death My girl told me don't let these hoes get in my head My world been ecstatic, I checked the signal that read\nBuzzin', radars is buzzin' Yah, yah, yah, yah Yah, yah, yah, yah Buzzin', radars is buzzin' Yah, yah, yah, yah Yah, yah, yah, yah\nInterviews wanna know my thoughts and opinions Fox News wanna use my name for percentage My latest news is my niece, she's worth livin' See me on the TV and scream, \"That's Uncle Kendrick\" Yeah, that's the business Somebody tell Geraldo this ni*** got some ambition I'm not a politician, I'm not 'bout a religion I'ma Israelite, don't call me Black no mo' That word is only a color, it ain't facts no mo' My cousin called, my cousin called Duckworth Said, \"Know my worth\" And Deuteronomy say that we all been cursed I know he walks the Earth But it's money to get, bitches to hit, yah Zeroes to flip, temptation is yah First on my list, I can't resist, yah Everyone together now, know that we forever\nBuzzin', radars is buzzin' Yah, yah, yah, yah Yah, yah, yah, yah Buzzin', radars is buzzin' Yah, yah, yah, yah Yah, yah, yah, yah\n"
    }
   ],
   "source": [
    "# How to get the song's lyrics\n",
    "for i in soup_me.find(\"div\", {\"class\" : \"letra\"}).find_all(\"p\"):\n",
    "    if i.has_attr(\"class\"):\n",
    "        break\n",
    "    elif i.a:\n",
    "        pass\n",
    "    else:\n",
    "        print(i.get_text(strip = True, separator = \" \"))"
   ]
  },
  {
   "cell_type": "code",
   "execution_count": 12,
   "metadata": {},
   "outputs": [],
   "source": [
    "# Function to get the song\n",
    "\n",
    "def get_song(song_url):\n",
    "\n",
    "    links_ = requests.get(song_url)\n",
    "    links_ = links_.content\n",
    "    soup_ = soup(links_)\n",
    "\n",
    "    title = soup_.find('h3').get_text()\n",
    "    lyrics = []\n",
    "\n",
    "    for i in soup_.find(\"div\", {\"class\" : \"letra\"}).find_all(\"p\"):\n",
    "        if i.has_attr(\"class\"):\n",
    "            break\n",
    "        elif i.a:\n",
    "            pass\n",
    "        else:\n",
    "            lyrics.append((i.get_text(strip = True, separator = \" \")))\n",
    "    \n",
    "    lyrics = \" \".join([str(elem) for elem in lyrics])\n",
    "\n",
    "    song = {\"title\" : title,\n",
    "            \"lyrics\" : lyrics}\n",
    "\n",
    "    return song\n"
   ]
  },
  {
   "cell_type": "code",
   "execution_count": 19,
   "metadata": {
    "tags": []
   },
   "outputs": [
    {
     "output_type": "stream",
     "name": "stdout",
     "text": "https://www.musica.com/letras.asp?letra=2291526\nhttps://www.musica.com/letras.asp?letra=2295204\nhttps://www.musica.com/letras.asp?letra=2363207\nhttps://www.musica.com/letras.asp?letra=2363206\nhttps://www.musica.com/letras.asp?letra=2336737\nhttps://www.musica.com/letras.asp?letra=2126266\nhttps://www.musica.com/letras.asp?letra=2126771\nhttps://www.musica.com/letras.asp?letra=2126776\nhttps://www.musica.com/letras.asp?letra=2126770\nhttps://www.musica.com/letras.asp?letra=2294521\nhttps://www.musica.com/letras.asp?letra=2294527\nhttps://www.musica.com/letras.asp?letra=2294520\nhttps://www.musica.com/letras.asp?letra=2294529\nhttps://www.musica.com/letras.asp?letra=2380882\nhttps://www.musica.com/letras.asp?letra=2294197\nhttps://www.musica.com/letras.asp?letra=2126784\nhttps://www.musica.com/letras.asp?letra=2126780\nhttps://www.musica.com/letras.asp?letra=2126783\nhttps://www.musica.com/letras.asp?letra=2294517\nhttps://www.musica.com/letras.asp?letra=2294635\nhttps://www.musica.com/letras.asp?letra=2111336\nhttps://www.musica.com/letras.asp?letra=2324600\nhttps://www.musica.com/letras.asp?letra=2126773\nhttps://www.musica.com/letras.asp?letra=2222747\nhttps://www.musica.com/letras.asp?letra=2147777\n"
    }
   ],
   "source": [
    "songs = []\n",
    "\n",
    "for link in links:  #in links we have saved the return of the function get_links(\"www.musica.com/blabl\")\n",
    "    print(link)\n",
    "    songs.append(get_song(link))"
   ]
  },
  {
   "cell_type": "code",
   "execution_count": 20,
   "metadata": {},
   "outputs": [
    {
     "output_type": "execute_result",
     "data": {
      "text/plain": "{'title': 'All The Stars (en español)', 'lyrics': ''}"
     },
     "metadata": {},
     "execution_count": 20
    }
   ],
   "source": [
    "songs[2]"
   ]
  },
  {
   "cell_type": "code",
   "execution_count": 21,
   "metadata": {},
   "outputs": [
    {
     "output_type": "execute_result",
     "data": {
      "text/plain": "                                    title lyrics\n0                          Letra 'Humble'       \n1                       DNA. (en español)       \n2              All The Stars (en español)       \n3                   Letra 'All The Stars'       \n4                     Humble (en español)       \n5                     Letra 'Money Trees'       \n6                Money Trees (en español)       \n7                        Letra 'Good Kid'       \n8   Bitch Don't Kill My Vibe (en español)       \n9                           Letra 'FEEL.'       \n10                          Letra 'FEAR.'       \n11                       Letra 'ELEMENT.'       \n12                     Letra 'DUCKWORTH.'       \n13              Letra 'Doves In The Wind'       \n14                           Letra 'DNA.'       \n15          Letra 'County Building Blues'       \n16                        Letra 'Compton'       \n17                  Letra 'Collect Calls'       \n18                         Letra 'BLOOD.'       \n19                     Blood (en español)       \n20       Letra 'Bitch Don't Kill My Vibe'       \n21                Letra 'Bad Blood Remix'       \n22                       Letra 'Backseat'       \n23                   Alright (en español)       \n24                        Letra 'A.d.h.d'       ",
      "text/html": "<div>\n<style scoped>\n    .dataframe tbody tr th:only-of-type {\n        vertical-align: middle;\n    }\n\n    .dataframe tbody tr th {\n        vertical-align: top;\n    }\n\n    .dataframe thead th {\n        text-align: right;\n    }\n</style>\n<table border=\"1\" class=\"dataframe\">\n  <thead>\n    <tr style=\"text-align: right;\">\n      <th></th>\n      <th>title</th>\n      <th>lyrics</th>\n    </tr>\n  </thead>\n  <tbody>\n    <tr>\n      <th>0</th>\n      <td>Letra 'Humble'</td>\n      <td></td>\n    </tr>\n    <tr>\n      <th>1</th>\n      <td>DNA. (en español)</td>\n      <td></td>\n    </tr>\n    <tr>\n      <th>2</th>\n      <td>All The Stars (en español)</td>\n      <td></td>\n    </tr>\n    <tr>\n      <th>3</th>\n      <td>Letra 'All The Stars'</td>\n      <td></td>\n    </tr>\n    <tr>\n      <th>4</th>\n      <td>Humble (en español)</td>\n      <td></td>\n    </tr>\n    <tr>\n      <th>5</th>\n      <td>Letra 'Money Trees'</td>\n      <td></td>\n    </tr>\n    <tr>\n      <th>6</th>\n      <td>Money Trees (en español)</td>\n      <td></td>\n    </tr>\n    <tr>\n      <th>7</th>\n      <td>Letra 'Good Kid'</td>\n      <td></td>\n    </tr>\n    <tr>\n      <th>8</th>\n      <td>Bitch Don't Kill My Vibe (en español)</td>\n      <td></td>\n    </tr>\n    <tr>\n      <th>9</th>\n      <td>Letra 'FEEL.'</td>\n      <td></td>\n    </tr>\n    <tr>\n      <th>10</th>\n      <td>Letra 'FEAR.'</td>\n      <td></td>\n    </tr>\n    <tr>\n      <th>11</th>\n      <td>Letra 'ELEMENT.'</td>\n      <td></td>\n    </tr>\n    <tr>\n      <th>12</th>\n      <td>Letra 'DUCKWORTH.'</td>\n      <td></td>\n    </tr>\n    <tr>\n      <th>13</th>\n      <td>Letra 'Doves In The Wind'</td>\n      <td></td>\n    </tr>\n    <tr>\n      <th>14</th>\n      <td>Letra 'DNA.'</td>\n      <td></td>\n    </tr>\n    <tr>\n      <th>15</th>\n      <td>Letra 'County Building Blues'</td>\n      <td></td>\n    </tr>\n    <tr>\n      <th>16</th>\n      <td>Letra 'Compton'</td>\n      <td></td>\n    </tr>\n    <tr>\n      <th>17</th>\n      <td>Letra 'Collect Calls'</td>\n      <td></td>\n    </tr>\n    <tr>\n      <th>18</th>\n      <td>Letra 'BLOOD.'</td>\n      <td></td>\n    </tr>\n    <tr>\n      <th>19</th>\n      <td>Blood (en español)</td>\n      <td></td>\n    </tr>\n    <tr>\n      <th>20</th>\n      <td>Letra 'Bitch Don't Kill My Vibe'</td>\n      <td></td>\n    </tr>\n    <tr>\n      <th>21</th>\n      <td>Letra 'Bad Blood Remix'</td>\n      <td></td>\n    </tr>\n    <tr>\n      <th>22</th>\n      <td>Letra 'Backseat'</td>\n      <td></td>\n    </tr>\n    <tr>\n      <th>23</th>\n      <td>Alright (en español)</td>\n      <td></td>\n    </tr>\n    <tr>\n      <th>24</th>\n      <td>Letra 'A.d.h.d'</td>\n      <td></td>\n    </tr>\n  </tbody>\n</table>\n</div>"
     },
     "metadata": {},
     "execution_count": 21
    }
   ],
   "source": [
    "df_songs_kLamar = pd.DataFrame(songs)\n",
    "df_songs_kLamar"
   ]
  },
  {
   "cell_type": "code",
   "execution_count": 33,
   "metadata": {},
   "outputs": [
    {
     "output_type": "execute_result",
     "data": {
      "text/plain": "                                    title lyrics\n0                                'Humble'       \n1                       DNA. (en español)       \n2              All The Stars (en español)       \n3                         'All The Stars'       \n4                     Humble (en español)       \n5                           'Money Trees'       \n6                Money Trees (en español)       \n7                              'Good Kid'       \n8   Bitch Don't Kill My Vibe (en español)       \n9                                 'FEEL.'       \n10                                'FEAR.'       \n11                             'ELEMENT.'       \n12                           'DUCKWORTH.'       \n13                    'Doves In The Wind'       \n14                                 'DNA.'       \n15                'County Building Blues'       \n16                              'Compton'       \n17                        'Collect Calls'       \n18                               'BLOOD.'       \n19                     Blood (en español)       \n20             'Bitch Don't Kill My Vibe'       \n21                      'Bad Blood Remix'       \n22                             'Backseat'       \n23                   Alright (en español)       \n24                              'A.d.h.d'       ",
      "text/html": "<div>\n<style scoped>\n    .dataframe tbody tr th:only-of-type {\n        vertical-align: middle;\n    }\n\n    .dataframe tbody tr th {\n        vertical-align: top;\n    }\n\n    .dataframe thead th {\n        text-align: right;\n    }\n</style>\n<table border=\"1\" class=\"dataframe\">\n  <thead>\n    <tr style=\"text-align: right;\">\n      <th></th>\n      <th>title</th>\n      <th>lyrics</th>\n    </tr>\n  </thead>\n  <tbody>\n    <tr>\n      <th>0</th>\n      <td>'Humble'</td>\n      <td></td>\n    </tr>\n    <tr>\n      <th>1</th>\n      <td>DNA. (en español)</td>\n      <td></td>\n    </tr>\n    <tr>\n      <th>2</th>\n      <td>All The Stars (en español)</td>\n      <td></td>\n    </tr>\n    <tr>\n      <th>3</th>\n      <td>'All The Stars'</td>\n      <td></td>\n    </tr>\n    <tr>\n      <th>4</th>\n      <td>Humble (en español)</td>\n      <td></td>\n    </tr>\n    <tr>\n      <th>5</th>\n      <td>'Money Trees'</td>\n      <td></td>\n    </tr>\n    <tr>\n      <th>6</th>\n      <td>Money Trees (en español)</td>\n      <td></td>\n    </tr>\n    <tr>\n      <th>7</th>\n      <td>'Good Kid'</td>\n      <td></td>\n    </tr>\n    <tr>\n      <th>8</th>\n      <td>Bitch Don't Kill My Vibe (en español)</td>\n      <td></td>\n    </tr>\n    <tr>\n      <th>9</th>\n      <td>'FEEL.'</td>\n      <td></td>\n    </tr>\n    <tr>\n      <th>10</th>\n      <td>'FEAR.'</td>\n      <td></td>\n    </tr>\n    <tr>\n      <th>11</th>\n      <td>'ELEMENT.'</td>\n      <td></td>\n    </tr>\n    <tr>\n      <th>12</th>\n      <td>'DUCKWORTH.'</td>\n      <td></td>\n    </tr>\n    <tr>\n      <th>13</th>\n      <td>'Doves In The Wind'</td>\n      <td></td>\n    </tr>\n    <tr>\n      <th>14</th>\n      <td>'DNA.'</td>\n      <td></td>\n    </tr>\n    <tr>\n      <th>15</th>\n      <td>'County Building Blues'</td>\n      <td></td>\n    </tr>\n    <tr>\n      <th>16</th>\n      <td>'Compton'</td>\n      <td></td>\n    </tr>\n    <tr>\n      <th>17</th>\n      <td>'Collect Calls'</td>\n      <td></td>\n    </tr>\n    <tr>\n      <th>18</th>\n      <td>'BLOOD.'</td>\n      <td></td>\n    </tr>\n    <tr>\n      <th>19</th>\n      <td>Blood (en español)</td>\n      <td></td>\n    </tr>\n    <tr>\n      <th>20</th>\n      <td>'Bitch Don't Kill My Vibe'</td>\n      <td></td>\n    </tr>\n    <tr>\n      <th>21</th>\n      <td>'Bad Blood Remix'</td>\n      <td></td>\n    </tr>\n    <tr>\n      <th>22</th>\n      <td>'Backseat'</td>\n      <td></td>\n    </tr>\n    <tr>\n      <th>23</th>\n      <td>Alright (en español)</td>\n      <td></td>\n    </tr>\n    <tr>\n      <th>24</th>\n      <td>'A.d.h.d'</td>\n      <td></td>\n    </tr>\n  </tbody>\n</table>\n</div>"
     },
     "metadata": {},
     "execution_count": 33
    }
   ],
   "source": [
    "df_songs_kLamar[\"title\"] = df_songs_kLamar[\"title\"].str.replace(\"(\\W|^)Letra(\\W|$)\", \"\")\n",
    "df_songs_kLamar\n"
   ]
  },
  {
   "cell_type": "code",
   "execution_count": null,
   "metadata": {},
   "outputs": [],
   "source": []
  }
 ],
 "metadata": {
  "language_info": {
   "codemirror_mode": {
    "name": "ipython",
    "version": 3
   },
   "file_extension": ".py",
   "mimetype": "text/x-python",
   "name": "python",
   "nbconvert_exporter": "python",
   "pygments_lexer": "ipython3",
   "version": "3.8.2-final"
  },
  "orig_nbformat": 2,
  "kernelspec": {
   "name": "python38232biteb47039ee8b34c52b187673b1558ccdd",
   "display_name": "Python 3.8.2 32-bit"
  }
 },
 "nbformat": 4,
 "nbformat_minor": 2
}