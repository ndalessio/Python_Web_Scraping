{
 "cells": [
  {
   "cell_type": "code",
   "execution_count": 2,
   "metadata": {},
   "outputs": [],
   "source": [
    "from urllib.request import urlopen\n",
    "import requests\n",
    "from bs4 import BeautifulSoup\n",
    "import re\n",
    "import pandas as pd"
   ]
  },
  {
   "cell_type": "markdown",
   "metadata": {},
   "source": [
    "#### Function to get each story's URL"
   ]
  },
  {
   "cell_type": "code",
   "execution_count": 3,
   "metadata": {},
   "outputs": [],
   "source": [
    "def get_links(url):\n",
    "    html = urlopen(url)\n",
    "    bs = BeautifulSoup(html, \"html.parser\")\n",
    "    links = []\n",
    "    for link in bs.find(\"ul\", {\"class\" : \"list-stories\"}).find_all(\"a\", href = re.compile('(/texto/)')):\n",
    "        if \"href\" in link.attrs:\n",
    "            links.append(link.attrs[\"href\"])\n",
    "    return links"
   ]
  },
  {
   "cell_type": "markdown",
   "metadata": {},
   "source": [
    "#### Saving the result of the function in variable \"links\""
   ]
  },
  {
   "cell_type": "code",
   "execution_count": 4,
   "metadata": {},
   "outputs": [],
   "source": [
    "links = get_links(\"http://ciudadseva.com/autor/julio-cortazar/cuentos/\")"
   ]
  },
  {
   "cell_type": "markdown",
   "metadata": {},
   "source": [
    "#### Function to extract the title and text of each story. Creates a dictionary."
   ]
  },
  {
   "cell_type": "code",
   "execution_count": 5,
   "metadata": {},
   "outputs": [],
   "source": [
    "def get_story(story_url):\n",
    "    html = urlopen(story_url)\n",
    "    bs = BeautifulSoup(html, \"html.parser\")\n",
    "    title = bs.find(\"h1\").get_text()\n",
    "    text = []\n",
    "    \n",
    "    container = bs.find(\"article\").find(\"div\", {\"class\" : \"text-justify\"})\n",
    "    \n",
    "    for i in container.find_all(\"p\", {\"style\": False}):\n",
    "        text.append(i.get_text(strip = True, separator = \" \"))\n",
    "    \n",
    "    text = \" \".join([str(elem) for elem in text])\n",
    "\n",
    "    story = {\"title\": title, \n",
    "            \"text\": text}\n",
    "    \n",
    "    return story"
   ]
  },
  {
   "cell_type": "markdown",
   "metadata": {},
   "source": [
    "#### Creating a list with dictionaries, where each dictionary is a story."
   ]
  },
  {
   "cell_type": "code",
   "execution_count": 6,
   "metadata": {
    "tags": [
     "outputPrepend"
    ]
   },
   "outputs": [
    {
     "name": "stdout",
     "output_type": "stream",
     "text": [
      "https://ciudadseva.com/texto/almuerzos/\n",
      "https://ciudadseva.com/texto/amor-77/\n",
      "https://ciudadseva.com/texto/axolotl/\n",
      "https://ciudadseva.com/texto/carta-a-una-senorita-en-paris/\n",
      "https://ciudadseva.com/texto/cartas-de-mama/\n",
      "https://ciudadseva.com/texto/casa-tomada/\n",
      "https://ciudadseva.com/texto/circe/\n",
      "https://ciudadseva.com/texto/condor-y-cronopio/\n",
      "https://ciudadseva.com/texto/conducta-en-los-velorios/\n",
      "https://ciudadseva.com/texto/conservacion-de-los-recuerdos/\n",
      "https://ciudadseva.com/texto/continuidad-de-los-parques/\n",
      "https://ciudadseva.com/texto/despues-del-almuerzo/\n",
      "https://ciudadseva.com/texto/el-diario-a-diario/\n",
      "https://ciudadseva.com/texto/en-un-vaso-de-agua-fria-o-preferentemente-tibia/\n",
      "https://ciudadseva.com/texto/epigrafe-de-rayuela/\n",
      "https://ciudadseva.com/texto/historia-veridica/\n",
      "https://ciudadseva.com/texto/instrucciones-para-cantar/\n",
      "https://ciudadseva.com/texto/instrucciones-para-llorar/\n",
      "https://ciudadseva.com/texto/instrucciones-para-subir-una-escalera/\n",
      "https://ciudadseva.com/texto/la-autopista-del-sur/\n",
      "https://ciudadseva.com/texto/la-isla-a-mediodia/\n",
      "https://ciudadseva.com/texto/la-noche-boca-arriba/\n",
      "https://ciudadseva.com/texto/la-senorita-cora/\n",
      "https://ciudadseva.com/texto/las-lineas-de-la-mano/\n",
      "https://ciudadseva.com/texto/las-menades/\n",
      "https://ciudadseva.com/texto/lejana/\n",
      "https://ciudadseva.com/texto/los-testigos/\n",
      "https://ciudadseva.com/texto/pagina-asesina/\n",
      "https://ciudadseva.com/texto/patio-de-tarde/\n",
      "https://ciudadseva.com/texto/por-escrito-gallina-una/\n",
      "https://ciudadseva.com/texto/rayuela-capitulo-68/\n",
      "https://ciudadseva.com/texto/secuencias/\n",
      "https://ciudadseva.com/texto/tema-para-un-tapiz/\n",
      "https://ciudadseva.com/texto/teoria-del-cangrejo/\n",
      "https://ciudadseva.com/texto/todos-los-fuegos-el-fuego/\n",
      "https://ciudadseva.com/texto/una-flor-amarilla/\n",
      "https://ciudadseva.com/texto/vialidad/\n"
     ]
    }
   ],
   "source": [
    "stories = []\n",
    "\n",
    "for link in links:\n",
    "    print(link)\n",
    "    stories.append(get_story(link))"
   ]
  },
  {
   "cell_type": "code",
   "execution_count": 7,
   "metadata": {},
   "outputs": [],
   "source": [
    "#stories[2]\n"
   ]
  },
  {
   "cell_type": "markdown",
   "metadata": {},
   "source": [
    "#### Creating data frame"
   ]
  },
  {
   "cell_type": "code",
   "execution_count": 16,
   "metadata": {},
   "outputs": [],
   "source": [
    "df_cortazar = pd.DataFrame(stories)\n",
    "#df_cortazar\n",
    "\n",
    "#df_cortazar.to_csv(r'C:\\Users\\nolis\\Documents\\Python\\Python_Web_Scraping\\df_cortazar2.csv', index = False, encoding = \"utf-8-sig\")\n"
   ]
  },
  {
   "cell_type": "code",
   "execution_count": null,
   "metadata": {},
   "outputs": [],
   "source": []
  }
 ],
 "metadata": {
  "kernelspec": {
   "display_name": "Python 3.8.2 32-bit",
   "language": "python",
   "name": "python38232biteb47039ee8b34c52b187673b1558ccdd"
  },
  "language_info": {
   "codemirror_mode": {
    "name": "ipython",
    "version": 3
   },
   "file_extension": ".py",
   "mimetype": "text/x-python",
   "name": "python",
   "nbconvert_exporter": "python",
   "pygments_lexer": "ipython3",
   "version": "3.8.2"
  }
 },
 "nbformat": 4,
 "nbformat_minor": 2
}
